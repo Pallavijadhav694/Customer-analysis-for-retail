{
 "cells": [
  {
   "cell_type": "markdown",
   "id": "fa4b7698",
   "metadata": {},
   "source": [
    "# CUSTOMER ANALYSIS FOR RETAIL"
   ]
  },
  {
   "cell_type": "markdown",
   "id": "19b3592f",
   "metadata": {},
   "source": [
    "##### BUSINESS PROBLEM:\n",
    "A Retail store is required to analyze the day-to-day transactions and keep a track of its customers \n",
    "spread across various locations along with their purchases/returns across various categories.\n",
    "\n",
    "Create a report and display the below calculated metrics, reports and inferences.\n"
   ]
  },
  {
   "cell_type": "code",
   "execution_count": 2,
   "id": "cd0e690b",
   "metadata": {},
   "outputs": [],
   "source": [
    "#importing necessory libraries\n",
    "import pandas as pd\n",
    "import numpy as np\n",
    "import datetime as dt\n",
    "import seaborn as sns\n",
    "from matplotlib import pyplot as plt\n",
    "import warnings\n",
    "warnings.filterwarnings(\"ignore\")"
   ]
  },
  {
   "cell_type": "code",
   "execution_count": 3,
   "id": "4ff685b8",
   "metadata": {},
   "outputs": [],
   "source": [
    "cust  =pd.read_csv(\"E:/dwnld/Python Foundation Case Study 1 - Retail Case Study/Customer.csv\")\n",
    "trans=pd.read_csv(\"E:/dwnld/Python Foundation Case Study 1 - Retail Case Study/Transactions.csv\")\n",
    "prod=pd.read_csv(\"E:/dwnld/Python Foundation Case Study 1 - Retail Case Study/prod_cat_info.csv\")"
   ]
  },
  {
   "cell_type": "code",
   "execution_count": 6,
   "id": "430968b7",
   "metadata": {},
   "outputs": [],
   "source": [
    "\n",
    "\n",
    "cust[\"customer_Id\"]=cust[\"customer_Id\"].astype(\"object\")\n",
    "cust[\"city_code\"]=cust[\"city_code\"].astype(\"object\")\n",
    "trans[\"customer_Id\"]=trans[\"cust_id\"].astype(\"object\")\n",
    "trans[\"transaction_id\"]=trans.transaction_id.astype(\"object\")  \n",
    "trans.cust_id=trans.cust_id.astype(\"object\")  \n",
    "#pd.to_datetime(trans.tran_date,format=\"%d-%m-%Y\")\n",
    "trans.prod_subcat_code=trans.prod_subcat_code.astype(\"object\")\n",
    "trans.prod_cat_code=trans.prod_cat_code.astype(\"object\")\n"
   ]
  },
  {
   "cell_type": "code",
   "execution_count": 7,
   "id": "5979a183",
   "metadata": {},
   "outputs": [],
   "source": [
    "Customer_final=pd.merge(pd.merge(cust,trans,on=\"customer_Id\"),prod,on=\"prod_cat_code\")\n",
    "Customer_final.head()\n",
    "\n",
    "Customer_final.prod_sub_cat_code=Customer_final.prod_subcat_code.astype(\"object\")\n"
   ]
  },
  {
   "cell_type": "code",
   "execution_count": 8,
   "id": "b20476a2",
   "metadata": {},
   "outputs": [],
   "source": [
    "Customer_final[\"DOB\"]=Customer_final[\"DOB\"].astype(\"datetime64\")"
   ]
  },
  {
   "cell_type": "markdown",
   "id": "3b3fdc4d",
   "metadata": {},
   "source": [
    "# Summary report"
   ]
  },
  {
   "cell_type": "code",
   "execution_count": 9,
   "id": "385e09dc",
   "metadata": {},
   "outputs": [
    {
     "name": "stdout",
     "output_type": "stream",
     "text": [
      "<class 'pandas.core.frame.DataFrame'>\n",
      "Int64Index: 99293 entries, 0 to 99292\n",
      "Data columns (total 17 columns):\n",
      " #   Column             Non-Null Count  Dtype         \n",
      "---  ------             --------------  -----         \n",
      " 0   customer_Id        99293 non-null  object        \n",
      " 1   DOB                99293 non-null  datetime64[ns]\n",
      " 2   Gender             99253 non-null  object        \n",
      " 3   city_code          99257 non-null  object        \n",
      " 4   transaction_id     99293 non-null  object        \n",
      " 5   cust_id            99293 non-null  object        \n",
      " 6   tran_date          99293 non-null  object        \n",
      " 7   prod_subcat_code   99293 non-null  object        \n",
      " 8   prod_cat_code      99293 non-null  object        \n",
      " 9   Qty                99293 non-null  int64         \n",
      " 10  Rate               99293 non-null  int64         \n",
      " 11  Tax                99293 non-null  float64       \n",
      " 12  total_amt          99293 non-null  float64       \n",
      " 13  Store_type         99293 non-null  object        \n",
      " 14  prod_cat           99293 non-null  object        \n",
      " 15  prod_sub_cat_code  99293 non-null  object        \n",
      " 16  prod_subcat        99293 non-null  object        \n",
      "dtypes: datetime64[ns](1), float64(2), int64(2), object(12)\n",
      "memory usage: 13.6+ MB\n"
     ]
    }
   ],
   "source": [
    "Customer_final.info()"
   ]
  },
  {
   "cell_type": "code",
   "execution_count": 10,
   "id": "32df8ebc",
   "metadata": {},
   "outputs": [
    {
     "data": {
      "text/html": [
       "<div>\n",
       "<style scoped>\n",
       "    .dataframe tbody tr th:only-of-type {\n",
       "        vertical-align: middle;\n",
       "    }\n",
       "\n",
       "    .dataframe tbody tr th {\n",
       "        vertical-align: top;\n",
       "    }\n",
       "\n",
       "    .dataframe thead th {\n",
       "        text-align: right;\n",
       "    }\n",
       "</style>\n",
       "<table border=\"1\" class=\"dataframe\">\n",
       "  <thead>\n",
       "    <tr style=\"text-align: right;\">\n",
       "      <th></th>\n",
       "      <th>customer_Id</th>\n",
       "      <th>DOB</th>\n",
       "      <th>Gender</th>\n",
       "      <th>city_code</th>\n",
       "      <th>transaction_id</th>\n",
       "      <th>cust_id</th>\n",
       "      <th>tran_date</th>\n",
       "      <th>prod_subcat_code</th>\n",
       "      <th>prod_cat_code</th>\n",
       "      <th>Qty</th>\n",
       "      <th>Rate</th>\n",
       "      <th>Tax</th>\n",
       "      <th>total_amt</th>\n",
       "      <th>Store_type</th>\n",
       "      <th>prod_cat</th>\n",
       "      <th>prod_sub_cat_code</th>\n",
       "      <th>prod_subcat</th>\n",
       "    </tr>\n",
       "  </thead>\n",
       "  <tbody>\n",
       "    <tr>\n",
       "      <th>0</th>\n",
       "      <td>268408</td>\n",
       "      <td>1970-02-01</td>\n",
       "      <td>M</td>\n",
       "      <td>4.0</td>\n",
       "      <td>87243835584</td>\n",
       "      <td>268408</td>\n",
       "      <td>13-01-2014</td>\n",
       "      <td>7</td>\n",
       "      <td>5</td>\n",
       "      <td>5</td>\n",
       "      <td>187</td>\n",
       "      <td>98.175</td>\n",
       "      <td>1033.175</td>\n",
       "      <td>TeleShop</td>\n",
       "      <td>Books</td>\n",
       "      <td>7</td>\n",
       "      <td>Fiction</td>\n",
       "    </tr>\n",
       "    <tr>\n",
       "      <th>1</th>\n",
       "      <td>268408</td>\n",
       "      <td>1970-02-01</td>\n",
       "      <td>M</td>\n",
       "      <td>4.0</td>\n",
       "      <td>87243835584</td>\n",
       "      <td>268408</td>\n",
       "      <td>13-01-2014</td>\n",
       "      <td>7</td>\n",
       "      <td>5</td>\n",
       "      <td>5</td>\n",
       "      <td>187</td>\n",
       "      <td>98.175</td>\n",
       "      <td>1033.175</td>\n",
       "      <td>TeleShop</td>\n",
       "      <td>Books</td>\n",
       "      <td>7</td>\n",
       "      <td>Academic</td>\n",
       "    </tr>\n",
       "    <tr>\n",
       "      <th>2</th>\n",
       "      <td>268408</td>\n",
       "      <td>1970-02-01</td>\n",
       "      <td>M</td>\n",
       "      <td>4.0</td>\n",
       "      <td>87243835584</td>\n",
       "      <td>268408</td>\n",
       "      <td>13-01-2014</td>\n",
       "      <td>7</td>\n",
       "      <td>5</td>\n",
       "      <td>5</td>\n",
       "      <td>187</td>\n",
       "      <td>98.175</td>\n",
       "      <td>1033.175</td>\n",
       "      <td>TeleShop</td>\n",
       "      <td>Books</td>\n",
       "      <td>7</td>\n",
       "      <td>Non-Fiction</td>\n",
       "    </tr>\n",
       "    <tr>\n",
       "      <th>3</th>\n",
       "      <td>268408</td>\n",
       "      <td>1970-02-01</td>\n",
       "      <td>M</td>\n",
       "      <td>4.0</td>\n",
       "      <td>87243835584</td>\n",
       "      <td>268408</td>\n",
       "      <td>13-01-2014</td>\n",
       "      <td>7</td>\n",
       "      <td>5</td>\n",
       "      <td>5</td>\n",
       "      <td>187</td>\n",
       "      <td>98.175</td>\n",
       "      <td>1033.175</td>\n",
       "      <td>TeleShop</td>\n",
       "      <td>Books</td>\n",
       "      <td>7</td>\n",
       "      <td>Children</td>\n",
       "    </tr>\n",
       "    <tr>\n",
       "      <th>4</th>\n",
       "      <td>268408</td>\n",
       "      <td>1970-02-01</td>\n",
       "      <td>M</td>\n",
       "      <td>4.0</td>\n",
       "      <td>87243835584</td>\n",
       "      <td>268408</td>\n",
       "      <td>13-01-2014</td>\n",
       "      <td>7</td>\n",
       "      <td>5</td>\n",
       "      <td>5</td>\n",
       "      <td>187</td>\n",
       "      <td>98.175</td>\n",
       "      <td>1033.175</td>\n",
       "      <td>TeleShop</td>\n",
       "      <td>Books</td>\n",
       "      <td>7</td>\n",
       "      <td>Comics</td>\n",
       "    </tr>\n",
       "    <tr>\n",
       "      <th>5</th>\n",
       "      <td>268408</td>\n",
       "      <td>1970-02-01</td>\n",
       "      <td>M</td>\n",
       "      <td>4.0</td>\n",
       "      <td>87243835584</td>\n",
       "      <td>268408</td>\n",
       "      <td>13-01-2014</td>\n",
       "      <td>7</td>\n",
       "      <td>5</td>\n",
       "      <td>5</td>\n",
       "      <td>187</td>\n",
       "      <td>98.175</td>\n",
       "      <td>1033.175</td>\n",
       "      <td>TeleShop</td>\n",
       "      <td>Books</td>\n",
       "      <td>7</td>\n",
       "      <td>DIY</td>\n",
       "    </tr>\n",
       "    <tr>\n",
       "      <th>6</th>\n",
       "      <td>268159</td>\n",
       "      <td>1970-08-01</td>\n",
       "      <td>F</td>\n",
       "      <td>8.0</td>\n",
       "      <td>65867401816</td>\n",
       "      <td>268159</td>\n",
       "      <td>31-03-2013</td>\n",
       "      <td>11</td>\n",
       "      <td>5</td>\n",
       "      <td>5</td>\n",
       "      <td>214</td>\n",
       "      <td>112.350</td>\n",
       "      <td>1182.350</td>\n",
       "      <td>MBR</td>\n",
       "      <td>Books</td>\n",
       "      <td>11</td>\n",
       "      <td>Fiction</td>\n",
       "    </tr>\n",
       "    <tr>\n",
       "      <th>7</th>\n",
       "      <td>268159</td>\n",
       "      <td>1970-08-01</td>\n",
       "      <td>F</td>\n",
       "      <td>8.0</td>\n",
       "      <td>65867401816</td>\n",
       "      <td>268159</td>\n",
       "      <td>31-03-2013</td>\n",
       "      <td>11</td>\n",
       "      <td>5</td>\n",
       "      <td>5</td>\n",
       "      <td>214</td>\n",
       "      <td>112.350</td>\n",
       "      <td>1182.350</td>\n",
       "      <td>MBR</td>\n",
       "      <td>Books</td>\n",
       "      <td>11</td>\n",
       "      <td>Academic</td>\n",
       "    </tr>\n",
       "    <tr>\n",
       "      <th>8</th>\n",
       "      <td>268159</td>\n",
       "      <td>1970-08-01</td>\n",
       "      <td>F</td>\n",
       "      <td>8.0</td>\n",
       "      <td>65867401816</td>\n",
       "      <td>268159</td>\n",
       "      <td>31-03-2013</td>\n",
       "      <td>11</td>\n",
       "      <td>5</td>\n",
       "      <td>5</td>\n",
       "      <td>214</td>\n",
       "      <td>112.350</td>\n",
       "      <td>1182.350</td>\n",
       "      <td>MBR</td>\n",
       "      <td>Books</td>\n",
       "      <td>11</td>\n",
       "      <td>Non-Fiction</td>\n",
       "    </tr>\n",
       "    <tr>\n",
       "      <th>9</th>\n",
       "      <td>268159</td>\n",
       "      <td>1970-08-01</td>\n",
       "      <td>F</td>\n",
       "      <td>8.0</td>\n",
       "      <td>65867401816</td>\n",
       "      <td>268159</td>\n",
       "      <td>31-03-2013</td>\n",
       "      <td>11</td>\n",
       "      <td>5</td>\n",
       "      <td>5</td>\n",
       "      <td>214</td>\n",
       "      <td>112.350</td>\n",
       "      <td>1182.350</td>\n",
       "      <td>MBR</td>\n",
       "      <td>Books</td>\n",
       "      <td>11</td>\n",
       "      <td>Children</td>\n",
       "    </tr>\n",
       "  </tbody>\n",
       "</table>\n",
       "</div>"
      ],
      "text/plain": [
       "  customer_Id        DOB Gender city_code transaction_id cust_id   tran_date  \\\n",
       "0      268408 1970-02-01      M       4.0    87243835584  268408  13-01-2014   \n",
       "1      268408 1970-02-01      M       4.0    87243835584  268408  13-01-2014   \n",
       "2      268408 1970-02-01      M       4.0    87243835584  268408  13-01-2014   \n",
       "3      268408 1970-02-01      M       4.0    87243835584  268408  13-01-2014   \n",
       "4      268408 1970-02-01      M       4.0    87243835584  268408  13-01-2014   \n",
       "5      268408 1970-02-01      M       4.0    87243835584  268408  13-01-2014   \n",
       "6      268159 1970-08-01      F       8.0    65867401816  268159  31-03-2013   \n",
       "7      268159 1970-08-01      F       8.0    65867401816  268159  31-03-2013   \n",
       "8      268159 1970-08-01      F       8.0    65867401816  268159  31-03-2013   \n",
       "9      268159 1970-08-01      F       8.0    65867401816  268159  31-03-2013   \n",
       "\n",
       "  prod_subcat_code prod_cat_code  Qty  Rate      Tax  total_amt Store_type  \\\n",
       "0                7             5    5   187   98.175   1033.175   TeleShop   \n",
       "1                7             5    5   187   98.175   1033.175   TeleShop   \n",
       "2                7             5    5   187   98.175   1033.175   TeleShop   \n",
       "3                7             5    5   187   98.175   1033.175   TeleShop   \n",
       "4                7             5    5   187   98.175   1033.175   TeleShop   \n",
       "5                7             5    5   187   98.175   1033.175   TeleShop   \n",
       "6               11             5    5   214  112.350   1182.350        MBR   \n",
       "7               11             5    5   214  112.350   1182.350        MBR   \n",
       "8               11             5    5   214  112.350   1182.350        MBR   \n",
       "9               11             5    5   214  112.350   1182.350        MBR   \n",
       "\n",
       "  prod_cat prod_sub_cat_code  prod_subcat  \n",
       "0    Books                 7      Fiction  \n",
       "1    Books                 7     Academic  \n",
       "2    Books                 7  Non-Fiction  \n",
       "3    Books                 7     Children  \n",
       "4    Books                 7       Comics  \n",
       "5    Books                 7          DIY  \n",
       "6    Books                11      Fiction  \n",
       "7    Books                11     Academic  \n",
       "8    Books                11  Non-Fiction  \n",
       "9    Books                11     Children  "
      ]
     },
     "execution_count": 10,
     "metadata": {},
     "output_type": "execute_result"
    }
   ],
   "source": [
    "#top 10 observations\n",
    "Customer_final.head(10)"
   ]
  },
  {
   "cell_type": "code",
   "execution_count": 11,
   "id": "60539fb4",
   "metadata": {},
   "outputs": [
    {
     "data": {
      "text/html": [
       "<div>\n",
       "<style scoped>\n",
       "    .dataframe tbody tr th:only-of-type {\n",
       "        vertical-align: middle;\n",
       "    }\n",
       "\n",
       "    .dataframe tbody tr th {\n",
       "        vertical-align: top;\n",
       "    }\n",
       "\n",
       "    .dataframe thead th {\n",
       "        text-align: right;\n",
       "    }\n",
       "</style>\n",
       "<table border=\"1\" class=\"dataframe\">\n",
       "  <thead>\n",
       "    <tr style=\"text-align: right;\">\n",
       "      <th></th>\n",
       "      <th>customer_Id</th>\n",
       "      <th>DOB</th>\n",
       "      <th>Gender</th>\n",
       "      <th>city_code</th>\n",
       "      <th>transaction_id</th>\n",
       "      <th>cust_id</th>\n",
       "      <th>tran_date</th>\n",
       "      <th>prod_subcat_code</th>\n",
       "      <th>prod_cat_code</th>\n",
       "      <th>Qty</th>\n",
       "      <th>Rate</th>\n",
       "      <th>Tax</th>\n",
       "      <th>total_amt</th>\n",
       "      <th>Store_type</th>\n",
       "      <th>prod_cat</th>\n",
       "      <th>prod_sub_cat_code</th>\n",
       "      <th>prod_subcat</th>\n",
       "    </tr>\n",
       "  </thead>\n",
       "  <tbody>\n",
       "    <tr>\n",
       "      <th>99283</th>\n",
       "      <td>274618</td>\n",
       "      <td>1992-09-12</td>\n",
       "      <td>F</td>\n",
       "      <td>7.0</td>\n",
       "      <td>98631113719</td>\n",
       "      <td>274618</td>\n",
       "      <td>19-04-2013</td>\n",
       "      <td>3</td>\n",
       "      <td>1</td>\n",
       "      <td>2</td>\n",
       "      <td>721</td>\n",
       "      <td>151.41</td>\n",
       "      <td>1593.41</td>\n",
       "      <td>e-Shop</td>\n",
       "      <td>Clothing</td>\n",
       "      <td>3</td>\n",
       "      <td>Kids</td>\n",
       "    </tr>\n",
       "    <tr>\n",
       "      <th>99284</th>\n",
       "      <td>268097</td>\n",
       "      <td>1992-12-15</td>\n",
       "      <td>F</td>\n",
       "      <td>7.0</td>\n",
       "      <td>71286190189</td>\n",
       "      <td>268097</td>\n",
       "      <td>5/9/2011</td>\n",
       "      <td>4</td>\n",
       "      <td>1</td>\n",
       "      <td>5</td>\n",
       "      <td>818</td>\n",
       "      <td>429.45</td>\n",
       "      <td>4519.45</td>\n",
       "      <td>e-Shop</td>\n",
       "      <td>Clothing</td>\n",
       "      <td>4</td>\n",
       "      <td>Mens</td>\n",
       "    </tr>\n",
       "    <tr>\n",
       "      <th>99285</th>\n",
       "      <td>268097</td>\n",
       "      <td>1992-12-15</td>\n",
       "      <td>F</td>\n",
       "      <td>7.0</td>\n",
       "      <td>71286190189</td>\n",
       "      <td>268097</td>\n",
       "      <td>5/9/2011</td>\n",
       "      <td>4</td>\n",
       "      <td>1</td>\n",
       "      <td>5</td>\n",
       "      <td>818</td>\n",
       "      <td>429.45</td>\n",
       "      <td>4519.45</td>\n",
       "      <td>e-Shop</td>\n",
       "      <td>Clothing</td>\n",
       "      <td>4</td>\n",
       "      <td>Women</td>\n",
       "    </tr>\n",
       "    <tr>\n",
       "      <th>99286</th>\n",
       "      <td>268097</td>\n",
       "      <td>1992-12-15</td>\n",
       "      <td>F</td>\n",
       "      <td>7.0</td>\n",
       "      <td>71286190189</td>\n",
       "      <td>268097</td>\n",
       "      <td>5/9/2011</td>\n",
       "      <td>4</td>\n",
       "      <td>1</td>\n",
       "      <td>5</td>\n",
       "      <td>818</td>\n",
       "      <td>429.45</td>\n",
       "      <td>4519.45</td>\n",
       "      <td>e-Shop</td>\n",
       "      <td>Clothing</td>\n",
       "      <td>4</td>\n",
       "      <td>Kids</td>\n",
       "    </tr>\n",
       "    <tr>\n",
       "      <th>99287</th>\n",
       "      <td>271772</td>\n",
       "      <td>1992-12-17</td>\n",
       "      <td>M</td>\n",
       "      <td>2.0</td>\n",
       "      <td>10440850091</td>\n",
       "      <td>271772</td>\n",
       "      <td>26-04-2013</td>\n",
       "      <td>4</td>\n",
       "      <td>1</td>\n",
       "      <td>4</td>\n",
       "      <td>819</td>\n",
       "      <td>343.98</td>\n",
       "      <td>3619.98</td>\n",
       "      <td>Flagship store</td>\n",
       "      <td>Clothing</td>\n",
       "      <td>4</td>\n",
       "      <td>Mens</td>\n",
       "    </tr>\n",
       "    <tr>\n",
       "      <th>99288</th>\n",
       "      <td>271772</td>\n",
       "      <td>1992-12-17</td>\n",
       "      <td>M</td>\n",
       "      <td>2.0</td>\n",
       "      <td>10440850091</td>\n",
       "      <td>271772</td>\n",
       "      <td>26-04-2013</td>\n",
       "      <td>4</td>\n",
       "      <td>1</td>\n",
       "      <td>4</td>\n",
       "      <td>819</td>\n",
       "      <td>343.98</td>\n",
       "      <td>3619.98</td>\n",
       "      <td>Flagship store</td>\n",
       "      <td>Clothing</td>\n",
       "      <td>4</td>\n",
       "      <td>Women</td>\n",
       "    </tr>\n",
       "    <tr>\n",
       "      <th>99289</th>\n",
       "      <td>271772</td>\n",
       "      <td>1992-12-17</td>\n",
       "      <td>M</td>\n",
       "      <td>2.0</td>\n",
       "      <td>10440850091</td>\n",
       "      <td>271772</td>\n",
       "      <td>26-04-2013</td>\n",
       "      <td>4</td>\n",
       "      <td>1</td>\n",
       "      <td>4</td>\n",
       "      <td>819</td>\n",
       "      <td>343.98</td>\n",
       "      <td>3619.98</td>\n",
       "      <td>Flagship store</td>\n",
       "      <td>Clothing</td>\n",
       "      <td>4</td>\n",
       "      <td>Kids</td>\n",
       "    </tr>\n",
       "    <tr>\n",
       "      <th>99290</th>\n",
       "      <td>269626</td>\n",
       "      <td>1992-12-27</td>\n",
       "      <td>F</td>\n",
       "      <td>5.0</td>\n",
       "      <td>94134051896</td>\n",
       "      <td>269626</td>\n",
       "      <td>7/7/2011</td>\n",
       "      <td>3</td>\n",
       "      <td>1</td>\n",
       "      <td>3</td>\n",
       "      <td>1078</td>\n",
       "      <td>339.57</td>\n",
       "      <td>3573.57</td>\n",
       "      <td>MBR</td>\n",
       "      <td>Clothing</td>\n",
       "      <td>3</td>\n",
       "      <td>Mens</td>\n",
       "    </tr>\n",
       "    <tr>\n",
       "      <th>99291</th>\n",
       "      <td>269626</td>\n",
       "      <td>1992-12-27</td>\n",
       "      <td>F</td>\n",
       "      <td>5.0</td>\n",
       "      <td>94134051896</td>\n",
       "      <td>269626</td>\n",
       "      <td>7/7/2011</td>\n",
       "      <td>3</td>\n",
       "      <td>1</td>\n",
       "      <td>3</td>\n",
       "      <td>1078</td>\n",
       "      <td>339.57</td>\n",
       "      <td>3573.57</td>\n",
       "      <td>MBR</td>\n",
       "      <td>Clothing</td>\n",
       "      <td>3</td>\n",
       "      <td>Women</td>\n",
       "    </tr>\n",
       "    <tr>\n",
       "      <th>99292</th>\n",
       "      <td>269626</td>\n",
       "      <td>1992-12-27</td>\n",
       "      <td>F</td>\n",
       "      <td>5.0</td>\n",
       "      <td>94134051896</td>\n",
       "      <td>269626</td>\n",
       "      <td>7/7/2011</td>\n",
       "      <td>3</td>\n",
       "      <td>1</td>\n",
       "      <td>3</td>\n",
       "      <td>1078</td>\n",
       "      <td>339.57</td>\n",
       "      <td>3573.57</td>\n",
       "      <td>MBR</td>\n",
       "      <td>Clothing</td>\n",
       "      <td>3</td>\n",
       "      <td>Kids</td>\n",
       "    </tr>\n",
       "  </tbody>\n",
       "</table>\n",
       "</div>"
      ],
      "text/plain": [
       "      customer_Id        DOB Gender city_code transaction_id cust_id  \\\n",
       "99283      274618 1992-09-12      F       7.0    98631113719  274618   \n",
       "99284      268097 1992-12-15      F       7.0    71286190189  268097   \n",
       "99285      268097 1992-12-15      F       7.0    71286190189  268097   \n",
       "99286      268097 1992-12-15      F       7.0    71286190189  268097   \n",
       "99287      271772 1992-12-17      M       2.0    10440850091  271772   \n",
       "99288      271772 1992-12-17      M       2.0    10440850091  271772   \n",
       "99289      271772 1992-12-17      M       2.0    10440850091  271772   \n",
       "99290      269626 1992-12-27      F       5.0    94134051896  269626   \n",
       "99291      269626 1992-12-27      F       5.0    94134051896  269626   \n",
       "99292      269626 1992-12-27      F       5.0    94134051896  269626   \n",
       "\n",
       "        tran_date prod_subcat_code prod_cat_code  Qty  Rate     Tax  \\\n",
       "99283  19-04-2013                3             1    2   721  151.41   \n",
       "99284    5/9/2011                4             1    5   818  429.45   \n",
       "99285    5/9/2011                4             1    5   818  429.45   \n",
       "99286    5/9/2011                4             1    5   818  429.45   \n",
       "99287  26-04-2013                4             1    4   819  343.98   \n",
       "99288  26-04-2013                4             1    4   819  343.98   \n",
       "99289  26-04-2013                4             1    4   819  343.98   \n",
       "99290    7/7/2011                3             1    3  1078  339.57   \n",
       "99291    7/7/2011                3             1    3  1078  339.57   \n",
       "99292    7/7/2011                3             1    3  1078  339.57   \n",
       "\n",
       "       total_amt      Store_type  prod_cat prod_sub_cat_code prod_subcat  \n",
       "99283    1593.41          e-Shop  Clothing                 3        Kids  \n",
       "99284    4519.45          e-Shop  Clothing                 4        Mens  \n",
       "99285    4519.45          e-Shop  Clothing                 4       Women  \n",
       "99286    4519.45          e-Shop  Clothing                 4        Kids  \n",
       "99287    3619.98  Flagship store  Clothing                 4        Mens  \n",
       "99288    3619.98  Flagship store  Clothing                 4       Women  \n",
       "99289    3619.98  Flagship store  Clothing                 4        Kids  \n",
       "99290    3573.57             MBR  Clothing                 3        Mens  \n",
       "99291    3573.57             MBR  Clothing                 3       Women  \n",
       "99292    3573.57             MBR  Clothing                 3        Kids  "
      ]
     },
     "execution_count": 11,
     "metadata": {},
     "output_type": "execute_result"
    }
   ],
   "source": [
    "#bottom 10 observations\n",
    "Customer_final.tail(10)"
   ]
  },
  {
   "cell_type": "code",
   "execution_count": 12,
   "id": "462c26ba",
   "metadata": {},
   "outputs": [
    {
     "data": {
      "text/html": [
       "<div>\n",
       "<style scoped>\n",
       "    .dataframe tbody tr th:only-of-type {\n",
       "        vertical-align: middle;\n",
       "    }\n",
       "\n",
       "    .dataframe tbody tr th {\n",
       "        vertical-align: top;\n",
       "    }\n",
       "\n",
       "    .dataframe thead th {\n",
       "        text-align: right;\n",
       "    }\n",
       "</style>\n",
       "<table border=\"1\" class=\"dataframe\">\n",
       "  <thead>\n",
       "    <tr style=\"text-align: right;\">\n",
       "      <th></th>\n",
       "      <th>Qty</th>\n",
       "      <th>Rate</th>\n",
       "      <th>Tax</th>\n",
       "      <th>total_amt</th>\n",
       "    </tr>\n",
       "  </thead>\n",
       "  <tbody>\n",
       "    <tr>\n",
       "      <th>count</th>\n",
       "      <td>99293.000000</td>\n",
       "      <td>99293.000000</td>\n",
       "      <td>99293.000000</td>\n",
       "      <td>99293.000000</td>\n",
       "    </tr>\n",
       "    <tr>\n",
       "      <th>mean</th>\n",
       "      <td>2.438017</td>\n",
       "      <td>637.919884</td>\n",
       "      <td>248.873736</td>\n",
       "      <td>2114.616420</td>\n",
       "    </tr>\n",
       "    <tr>\n",
       "      <th>std</th>\n",
       "      <td>2.260726</td>\n",
       "      <td>621.576326</td>\n",
       "      <td>187.014422</td>\n",
       "      <td>2502.306768</td>\n",
       "    </tr>\n",
       "    <tr>\n",
       "      <th>min</th>\n",
       "      <td>-5.000000</td>\n",
       "      <td>-1499.000000</td>\n",
       "      <td>7.350000</td>\n",
       "      <td>-8270.925000</td>\n",
       "    </tr>\n",
       "    <tr>\n",
       "      <th>25%</th>\n",
       "      <td>1.000000</td>\n",
       "      <td>313.000000</td>\n",
       "      <td>98.280000</td>\n",
       "      <td>762.450000</td>\n",
       "    </tr>\n",
       "    <tr>\n",
       "      <th>50%</th>\n",
       "      <td>3.000000</td>\n",
       "      <td>713.000000</td>\n",
       "      <td>199.920000</td>\n",
       "      <td>1761.370000</td>\n",
       "    </tr>\n",
       "    <tr>\n",
       "      <th>75%</th>\n",
       "      <td>4.000000</td>\n",
       "      <td>1109.000000</td>\n",
       "      <td>366.975000</td>\n",
       "      <td>3585.725000</td>\n",
       "    </tr>\n",
       "    <tr>\n",
       "      <th>max</th>\n",
       "      <td>5.000000</td>\n",
       "      <td>1500.000000</td>\n",
       "      <td>787.500000</td>\n",
       "      <td>8287.500000</td>\n",
       "    </tr>\n",
       "  </tbody>\n",
       "</table>\n",
       "</div>"
      ],
      "text/plain": [
       "                Qty          Rate           Tax     total_amt\n",
       "count  99293.000000  99293.000000  99293.000000  99293.000000\n",
       "mean       2.438017    637.919884    248.873736   2114.616420\n",
       "std        2.260726    621.576326    187.014422   2502.306768\n",
       "min       -5.000000  -1499.000000      7.350000  -8270.925000\n",
       "25%        1.000000    313.000000     98.280000    762.450000\n",
       "50%        3.000000    713.000000    199.920000   1761.370000\n",
       "75%        4.000000   1109.000000    366.975000   3585.725000\n",
       "max        5.000000   1500.000000    787.500000   8287.500000"
      ]
     },
     "execution_count": 12,
     "metadata": {},
     "output_type": "execute_result"
    }
   ],
   "source": [
    "#“Five-number summary” for continuous variables (min, Q1, median, Q3 and max)\n",
    "Customer_final.describe()"
   ]
  },
  {
   "cell_type": "markdown",
   "id": "0edd517c",
   "metadata": {},
   "source": [
    "# frequency tables for categorical variables"
   ]
  },
  {
   "cell_type": "code",
   "execution_count": 13,
   "id": "83437ad2",
   "metadata": {},
   "outputs": [
    {
     "data": {
      "text/plain": [
       "268819    63\n",
       "268663    59\n",
       "270908    56\n",
       "272415    55\n",
       "272526    54\n",
       "          ..\n",
       "272614     2\n",
       "269784     2\n",
       "271196     2\n",
       "269105     2\n",
       "272706     2\n",
       "Name: customer_Id, Length: 5506, dtype: int64"
      ]
     },
     "execution_count": 13,
     "metadata": {},
     "output_type": "execute_result"
    }
   ],
   "source": [
    "Customer_final[\"customer_Id\"].value_counts()"
   ]
  },
  {
   "cell_type": "code",
   "execution_count": 14,
   "id": "76e15fa3",
   "metadata": {},
   "outputs": [
    {
     "data": {
      "text/plain": [
       "1988-12-27    156\n",
       "1982-09-17    134\n",
       "1974-02-25    126\n",
       "1991-11-18    114\n",
       "1970-09-06    107\n",
       "             ... \n",
       "1981-02-26      2\n",
       "1991-11-10      2\n",
       "1980-10-22      2\n",
       "1976-01-29      2\n",
       "1991-02-08      2\n",
       "Name: DOB, Length: 3987, dtype: int64"
      ]
     },
     "execution_count": 14,
     "metadata": {},
     "output_type": "execute_result"
    }
   ],
   "source": [
    "Customer_final[\"DOB\"].value_counts()\n"
   ]
  },
  {
   "cell_type": "code",
   "execution_count": 15,
   "id": "eabbee7a",
   "metadata": {},
   "outputs": [
    {
     "data": {
      "text/plain": [
       "M    51051\n",
       "F    48202\n",
       "Name: Gender, dtype: int64"
      ]
     },
     "execution_count": 15,
     "metadata": {},
     "output_type": "execute_result"
    }
   ],
   "source": [
    "Customer_final[\"Gender\"].value_counts()\n"
   ]
  },
  {
   "cell_type": "code",
   "execution_count": 16,
   "id": "79c1ee62",
   "metadata": {},
   "outputs": [
    {
     "data": {
      "text/plain": [
       "4.0     10571\n",
       "3.0     10467\n",
       "7.0     10258\n",
       "5.0     10116\n",
       "10.0     9976\n",
       "8.0      9965\n",
       "2.0      9843\n",
       "1.0      9717\n",
       "9.0      9214\n",
       "6.0      9130\n",
       "Name: city_code, dtype: int64"
      ]
     },
     "execution_count": 16,
     "metadata": {},
     "output_type": "execute_result"
    }
   ],
   "source": [
    "Customer_final[\"city_code\"].value_counts()"
   ]
  },
  {
   "cell_type": "code",
   "execution_count": 17,
   "id": "91b8a889",
   "metadata": {},
   "outputs": [
    {
     "data": {
      "text/plain": [
       "4170892941     20\n",
       "22956363366    18\n",
       "81802961273    18\n",
       "42255136382    18\n",
       "86293071463    18\n",
       "               ..\n",
       "29775154089     2\n",
       "25364328005     2\n",
       "55922263464     2\n",
       "50484012668     2\n",
       "94287065277     2\n",
       "Name: transaction_id, Length: 20878, dtype: int64"
      ]
     },
     "execution_count": 17,
     "metadata": {},
     "output_type": "execute_result"
    }
   ],
   "source": [
    "Customer_final[\"transaction_id\"].value_counts()"
   ]
  },
  {
   "cell_type": "code",
   "execution_count": 18,
   "id": "fe6127f3",
   "metadata": {},
   "outputs": [
    {
     "data": {
      "text/plain": [
       "268819    63\n",
       "268663    59\n",
       "270908    56\n",
       "272415    55\n",
       "272526    54\n",
       "          ..\n",
       "272614     2\n",
       "269784     2\n",
       "271196     2\n",
       "269105     2\n",
       "272706     2\n",
       "Name: cust_id, Length: 5506, dtype: int64"
      ]
     },
     "execution_count": 18,
     "metadata": {},
     "output_type": "execute_result"
    }
   ],
   "source": [
    "Customer_final[\"cust_id\"].value_counts()"
   ]
  },
  {
   "cell_type": "code",
   "execution_count": 19,
   "id": "dcf54ed0",
   "metadata": {},
   "outputs": [
    {
     "data": {
      "text/plain": [
       "25-08-2012    153\n",
       "13-07-2011    144\n",
       "25-09-2011    144\n",
       "3/2/2014      142\n",
       "21-12-2013    141\n",
       "             ... \n",
       "22-02-2014     11\n",
       "24-02-2014     10\n",
       "27-02-2014      5\n",
       "21-02-2014      5\n",
       "28-02-2014      3\n",
       "Name: tran_date, Length: 1129, dtype: int64"
      ]
     },
     "execution_count": 19,
     "metadata": {},
     "output_type": "execute_result"
    }
   ],
   "source": [
    "Customer_final[\"tran_date\"].value_counts()\n"
   ]
  },
  {
   "cell_type": "code",
   "execution_count": 20,
   "id": "22e58395",
   "metadata": {},
   "outputs": [
    {
     "data": {
      "text/plain": [
       "10    14932\n",
       "4     13073\n",
       "3     12294\n",
       "11    10302\n",
       "12    10050\n",
       "1      7847\n",
       "7      6258\n",
       "6      5934\n",
       "9      4925\n",
       "8      4860\n",
       "5      4790\n",
       "2      4028\n",
       "Name: prod_subcat_code, dtype: int64"
      ]
     },
     "execution_count": 20,
     "metadata": {},
     "output_type": "execute_result"
    }
   ],
   "source": [
    "Customer_final[\"prod_subcat_code\"].value_counts()"
   ]
  },
  {
   "cell_type": "code",
   "execution_count": 21,
   "id": "c4daa61c",
   "metadata": {},
   "outputs": [
    {
     "data": {
      "text/plain": [
       "e-Shop            40185\n",
       "MBR               19974\n",
       "Flagship store    19814\n",
       "TeleShop          19320\n",
       "Name: Store_type, dtype: int64"
      ]
     },
     "execution_count": 21,
     "metadata": {},
     "output_type": "execute_result"
    }
   ],
   "source": [
    "Customer_final[\"Store_type\"].value_counts()"
   ]
  },
  {
   "cell_type": "code",
   "execution_count": 22,
   "id": "76732cd2",
   "metadata": {},
   "outputs": [
    {
     "data": {
      "text/plain": [
       "Books               36414\n",
       "Electronics         24490\n",
       "Home and kitchen    16516\n",
       "Footwear             8997\n",
       "Clothing             8880\n",
       "Bags                 3996\n",
       "Name: prod_cat, dtype: int64"
      ]
     },
     "execution_count": 22,
     "metadata": {},
     "output_type": "execute_result"
    }
   ],
   "source": [
    "Customer_final[\"prod_cat\"].value_counts()"
   ]
  },
  {
   "cell_type": "markdown",
   "id": "24a08e1b",
   "metadata": {},
   "source": [
    "# histograms for all continuous variables"
   ]
  },
  {
   "cell_type": "code",
   "execution_count": 23,
   "id": "2b548650",
   "metadata": {},
   "outputs": [
    {
     "data": {
      "text/plain": [
       "(array([ 1912.,  1979.,  1723.,  1882.,  1798.,     0., 18217., 17690.,\n",
       "        18017., 36075.]),\n",
       " array([-5., -4., -3., -2., -1.,  0.,  1.,  2.,  3.,  4.,  5.]),\n",
       " <BarContainer object of 10 artists>)"
      ]
     },
     "execution_count": 23,
     "metadata": {},
     "output_type": "execute_result"
    },
    {
     "data": {
      "image/png": "[encoded data removed]",
      "text/plain": [
       "<Figure size 432x288 with 1 Axes>"
      ]
     },
     "metadata": {
      "needs_background": "light"
     },
     "output_type": "display_data"
    }
   ],
   "source": [
    "plt.hist(Customer_final.Qty)"
   ]
  },
  {
   "cell_type": "code",
   "execution_count": 24,
   "id": "d37b8be5",
   "metadata": {},
   "outputs": [
    {
     "data": {
      "text/plain": [
       "(array([ 2144.,  1871.,  2020.,  1742.,  1517., 14664., 18621., 18710.,\n",
       "        18826., 19178.]),\n",
       " array([-1.4990e+03, -1.1991e+03, -8.9920e+02, -5.9930e+02, -2.9940e+02,\n",
       "         5.0000e-01,  3.0040e+02,  6.0030e+02,  9.0020e+02,  1.2001e+03,\n",
       "         1.5000e+03]),\n",
       " <BarContainer object of 10 artists>)"
      ]
     },
     "execution_count": 24,
     "metadata": {},
     "output_type": "execute_result"
    },
    {
     "data": {
      "image/png": "[encoded data removed]",
      "text/plain": [
       "<Figure size 432x288 with 1 Axes>"
      ]
     },
     "metadata": {
      "needs_background": "light"
     },
     "output_type": "display_data"
    }
   ],
   "source": [
    "plt.hist(Customer_final.Rate)"
   ]
  },
  {
   "cell_type": "code",
   "execution_count": 25,
   "id": "b85df8c5",
   "metadata": {},
   "outputs": [
    {
     "data": {
      "text/plain": [
       "(array([20919., 22795., 12985., 12683.,  8263.,  7978.,  4690.,  4537.,\n",
       "         2210.,  2233.]),\n",
       " array([  7.35 ,  85.365, 163.38 , 241.395, 319.41 , 397.425, 475.44 ,\n",
       "        553.455, 631.47 , 709.485, 787.5  ]),\n",
       " <BarContainer object of 10 artists>)"
      ]
     },
     "execution_count": 25,
     "metadata": {},
     "output_type": "execute_result"
    },
    {
     "data": {
      "image/png": "[encoded data removed]",
      "text/plain": [
       "<Figure size 432x288 with 1 Axes>"
      ]
     },
     "metadata": {
      "needs_background": "light"
     },
     "output_type": "display_data"
    }
   ],
   "source": [
    "plt.hist(Customer_final.Tax)"
   ]
  },
  {
   "cell_type": "code",
   "execution_count": 26,
   "id": "6a0f64f3",
   "metadata": {},
   "outputs": [
    {
     "data": {
      "text/plain": [
       "(array([  447.,   966.,  1573.,  2437.,  3871., 38987., 23678., 14933.,\n",
       "         8368.,  4033.]),\n",
       " array([-8270.925 , -6615.0825, -4959.24  , -3303.3975, -1647.555 ,\n",
       "            8.2875,  1664.13  ,  3319.9725,  4975.815 ,  6631.6575,\n",
       "         8287.5   ]),\n",
       " <BarContainer object of 10 artists>)"
      ]
     },
     "execution_count": 26,
     "metadata": {},
     "output_type": "execute_result"
    },
    {
     "data": {
      "image/png": "[encoded data removed]",
      "text/plain": [
       "<Figure size 432x288 with 1 Axes>"
      ]
     },
     "metadata": {
      "needs_background": "light"
     },
     "output_type": "display_data"
    }
   ],
   "source": [
    "plt.hist(Customer_final.total_amt)"
   ]
  },
  {
   "cell_type": "markdown",
   "id": "5d3b8b03",
   "metadata": {},
   "source": [
    "# frequency bars for categorical variables"
   ]
  },
  {
   "cell_type": "code",
   "execution_count": 27,
   "id": "84bbb6d3",
   "metadata": {},
   "outputs": [
    {
     "data": {
      "text/plain": [
       "<AxesSubplot:xlabel='Gender', ylabel='count'>"
      ]
     },
     "execution_count": 27,
     "metadata": {},
     "output_type": "execute_result"
    },
    {
     "data": {
      "image/png": "[encoded data removed]",
      "text/plain": [
       "<Figure size 432x288 with 1 Axes>"
      ]
     },
     "metadata": {
      "needs_background": "light"
     },
     "output_type": "display_data"
    }
   ],
   "source": [
    "sns.countplot(Customer_final['Gender'])"
   ]
  },
  {
   "cell_type": "code",
   "execution_count": 28,
   "id": "c47c4271",
   "metadata": {},
   "outputs": [
    {
     "data": {
      "text/plain": [
       "<AxesSubplot:xlabel='prod_cat', ylabel='count'>"
      ]
     },
     "execution_count": 28,
     "metadata": {},
     "output_type": "execute_result"
    },
    {
     "data": {
      "image/png": "[encoded data removed]",
      "text/plain": [
       "<Figure size 432x288 with 1 Axes>"
      ]
     },
     "metadata": {
      "needs_background": "light"
     },
     "output_type": "display_data"
    }
   ],
   "source": [
    "sns.countplot(Customer_final['prod_cat'])"
   ]
  },
  {
   "cell_type": "code",
   "execution_count": 29,
   "id": "55201747",
   "metadata": {},
   "outputs": [
    {
     "data": {
      "text/plain": [
       "<AxesSubplot:xlabel='prod_subcat', ylabel='count'>"
      ]
     },
     "execution_count": 29,
     "metadata": {},
     "output_type": "execute_result"
    },
    {
     "data": {
      "image/png": "[encoded data removed]",
      "text/plain": [
       "<Figure size 432x288 with 1 Axes>"
      ]
     },
     "metadata": {
      "needs_background": "light"
     },
     "output_type": "display_data"
    }
   ],
   "source": [
    "sns.countplot(Customer_final['prod_subcat'])"
   ]
  },
  {
   "cell_type": "code",
   "execution_count": 30,
   "id": "36b96fcd",
   "metadata": {},
   "outputs": [
    {
     "data": {
      "text/plain": [
       "<AxesSubplot:xlabel='Store_type', ylabel='count'>"
      ]
     },
     "execution_count": 30,
     "metadata": {},
     "output_type": "execute_result"
    },
    {
     "data": {
      "image/png": "[encoded data removed]",
      "text/plain": [
       "<Figure size 432x288 with 1 Axes>"
      ]
     },
     "metadata": {
      "needs_background": "light"
     },
     "output_type": "display_data"
    }
   ],
   "source": [
    "sns.countplot(Customer_final['Store_type'])"
   ]
  },
  {
   "cell_type": "code",
   "execution_count": 31,
   "id": "9c65c0b4",
   "metadata": {},
   "outputs": [
    {
     "name": "stdout",
     "output_type": "stream",
     "text": [
      "Time period of the available transaction data is 1/1/2012 to 9/9/2013\n"
     ]
    }
   ],
   "source": [
    "# Time period of the available transaction data\n",
    "min_date=Customer_final.tran_date.min()\n",
    "max_date=Customer_final.tran_date.max()\n",
    "print(\"Time period of the available transaction data is \"+min_date+\" to \"+max_date)"
   ]
  },
  {
   "cell_type": "code",
   "execution_count": 32,
   "id": "41de006c",
   "metadata": {},
   "outputs": [
    {
     "data": {
      "text/plain": [
       "9294"
      ]
     },
     "execution_count": 32,
     "metadata": {},
     "output_type": "execute_result"
    }
   ],
   "source": [
    "#Count of transactions where the total amount of transaction was negative\n",
    "Customer_final.loc[Customer_final.total_amt < 0].transaction_id.count()"
   ]
  },
  {
   "cell_type": "code",
   "execution_count": 33,
   "id": "70393292",
   "metadata": {},
   "outputs": [
    {
     "data": {
      "text/plain": [
       "Gender  prod_cat        \n",
       "F       Bags                 4724\n",
       "        Books               42420\n",
       "        Clothing            10275\n",
       "        Electronics         29160\n",
       "        Footwear            11148\n",
       "        Home and kitchen    19580\n",
       "M       Bags                 4692\n",
       "        Books               45522\n",
       "        Clothing            11244\n",
       "        Electronics         32380\n",
       "        Footwear            10665\n",
       "        Home and kitchen    20164\n",
       "Name: Qty, dtype: int64"
      ]
     },
     "execution_count": 33,
     "metadata": {},
     "output_type": "execute_result"
    }
   ],
   "source": [
    "#Analyze which product categories are more popular among females vs male customers\n",
    "Customer_final.groupby([\"Gender\",\"prod_cat\"]).Qty.sum()"
   ]
  },
  {
   "cell_type": "code",
   "execution_count": 34,
   "id": "c5911da4",
   "metadata": {},
   "outputs": [
    {
     "data": {
      "text/plain": [
       "<AxesSubplot:xlabel='city_code'>"
      ]
     },
     "execution_count": 34,
     "metadata": {},
     "output_type": "execute_result"
    },
    {
     "data": {
      "image/png": "[encoded data removed]",
      "text/plain": [
       "<Figure size 432x288 with 1 Axes>"
      ]
     },
     "metadata": {
      "needs_background": "light"
     },
     "output_type": "display_data"
    }
   ],
   "source": [
    "#Which City code has the maximum customers and what was the percentage of customers from that city? \n",
    "max_cust=Customer_final.groupby(\"city_code\").customer_Id.count().sort_values(ascending=False)\n",
    "max_cust\n",
    "\n",
    "\n",
    "max_cust.plot(kind=\"bar\")"
   ]
  },
  {
   "cell_type": "markdown",
   "id": "4d76f170",
   "metadata": {},
   "source": [
    "### From the above graph we can see that the city 4.0 has maximum number of customers"
   ]
  },
  {
   "cell_type": "code",
   "execution_count": 35,
   "id": "0de2222d",
   "metadata": {},
   "outputs": [
    {
     "data": {
      "text/plain": [
       "0.10646269122697471"
      ]
     },
     "execution_count": 35,
     "metadata": {},
     "output_type": "execute_result"
    }
   ],
   "source": [
    "#percentage of customers from that city(4.0)\n",
    "percentof_max_cust=(Customer_final.groupby(\"city_code\").customer_Id.count()/Customer_final.customer_Id.count()).sort_values(ascending=False)\n",
    "\n",
    "percentof_max_cust.max()"
   ]
  },
  {
   "cell_type": "code",
   "execution_count": 36,
   "id": "4e578f46",
   "metadata": {},
   "outputs": [
    {
     "data": {
      "text/plain": [
       "Store_type\n",
       "Flagship store    48007\n",
       "MBR               48285\n",
       "TeleShop          47339\n",
       "e-Shop            98447\n",
       "Name: Qty, dtype: int64"
      ]
     },
     "execution_count": 36,
     "metadata": {},
     "output_type": "execute_result"
    }
   ],
   "source": [
    "#Which store type sells the maximum products by value \n",
    "Customer_final.groupby(Customer_final.Store_type).Qty.sum()"
   ]
  },
  {
   "cell_type": "code",
   "execution_count": 37,
   "id": "10e0071b",
   "metadata": {},
   "outputs": [
    {
     "data": {
      "text/html": [
       "<div>\n",
       "<style scoped>\n",
       "    .dataframe tbody tr th:only-of-type {\n",
       "        vertical-align: middle;\n",
       "    }\n",
       "\n",
       "    .dataframe tbody tr th {\n",
       "        vertical-align: top;\n",
       "    }\n",
       "\n",
       "    .dataframe thead th {\n",
       "        text-align: right;\n",
       "    }\n",
       "</style>\n",
       "<table border=\"1\" class=\"dataframe\">\n",
       "  <thead>\n",
       "    <tr style=\"text-align: right;\">\n",
       "      <th></th>\n",
       "      <th>Qty</th>\n",
       "      <th>Rate</th>\n",
       "    </tr>\n",
       "    <tr>\n",
       "      <th>Store_type</th>\n",
       "      <th></th>\n",
       "      <th></th>\n",
       "    </tr>\n",
       "  </thead>\n",
       "  <tbody>\n",
       "    <tr>\n",
       "      <th>e-Shop</th>\n",
       "      <td>98447</td>\n",
       "      <td>25690591</td>\n",
       "    </tr>\n",
       "    <tr>\n",
       "      <th>MBR</th>\n",
       "      <td>48285</td>\n",
       "      <td>12682308</td>\n",
       "    </tr>\n",
       "    <tr>\n",
       "      <th>Flagship store</th>\n",
       "      <td>48007</td>\n",
       "      <td>12715977</td>\n",
       "    </tr>\n",
       "    <tr>\n",
       "      <th>TeleShop</th>\n",
       "      <td>47339</td>\n",
       "      <td>12252103</td>\n",
       "    </tr>\n",
       "  </tbody>\n",
       "</table>\n",
       "</div>"
      ],
      "text/plain": [
       "                  Qty      Rate\n",
       "Store_type                     \n",
       "e-Shop          98447  25690591\n",
       "MBR             48285  12682308\n",
       "Flagship store  48007  12715977\n",
       "TeleShop        47339  12252103"
      ]
     },
     "execution_count": 37,
     "metadata": {},
     "output_type": "execute_result"
    }
   ],
   "source": [
    "#Which store type sells the maximum products by value and by quantity?\n",
    "Customer_final.groupby(Customer_final.Store_type)[\"Qty\",\"Rate\"].sum().sort_values(by=[\"Qty\",\"Rate\"],ascending=False)"
   ]
  },
  {
   "cell_type": "markdown",
   "id": "7bfb0a52",
   "metadata": {},
   "source": [
    "### e-Shop store sells the maximum products by value and by quantity"
   ]
  },
  {
   "cell_type": "markdown",
   "id": "76cc1975",
   "metadata": {},
   "source": [
    "### total amount earned from the \"Electronics\" and \"Clothing\" categories from Flagship Stores\n"
   ]
  },
  {
   "cell_type": "code",
   "execution_count": 38,
   "id": "e02601a0",
   "metadata": {
    "scrolled": true
   },
   "outputs": [
    {
     "data": {
      "text/plain": [
       "14658949.889999999"
      ]
     },
     "execution_count": 38,
     "metadata": {},
     "output_type": "execute_result"
    }
   ],
   "source": [
    "stores=Customer_final.pivot_table(index=\"prod_cat\",columns=\"Store_type\",values=\"total_amt\",aggfunc=\"sum\")\n",
    "\n",
    "stores.loc[[\"Electronics\",\"Clothing\"],\"Flagship store\"].sum()"
   ]
  },
  {
   "cell_type": "markdown",
   "id": "f4750915",
   "metadata": {},
   "source": [
    "### What was the total amount earned from \"Male\" customers under the \"Electronics\" category?"
   ]
  },
  {
   "cell_type": "code",
   "execution_count": 39,
   "id": "d395933b",
   "metadata": {},
   "outputs": [
    {
     "data": {
      "text/plain": [
       "28515547.125"
      ]
     },
     "execution_count": 39,
     "metadata": {},
     "output_type": "execute_result"
    }
   ],
   "source": [
    "cat=Customer_final.pivot_table(index=\"Gender\",columns=\"prod_cat\",values=\"total_amt\",aggfunc=\"sum\")\n",
    "cat.loc[\"M\",\"Electronics\"]"
   ]
  },
  {
   "cell_type": "markdown",
   "id": "d6ecb33a",
   "metadata": {},
   "source": [
    "### How many customers have more than 10 unique transactions, after removing all transactions \n",
    "### which have any negative amounts?"
   ]
  },
  {
   "cell_type": "code",
   "execution_count": 40,
   "id": "4a602314",
   "metadata": {},
   "outputs": [
    {
     "data": {
      "text/plain": [
       "cust_id           3214\n",
       "transaction_id    3214\n",
       "dtype: int64"
      ]
     },
     "execution_count": 40,
     "metadata": {},
     "output_type": "execute_result"
    }
   ],
   "source": [
    "pos_tran=Customer_final.loc[Customer_final.total_amt>=0,:]\n",
    "unique_tran=pos_tran.groupby([\"cust_id\",\"prod_cat\",\"prod_subcat\"]).transaction_id.count().reset_index()\n",
    "nunique_tran=unique_tran.groupby([\"cust_id\"]).transaction_id.count().reset_index()\n",
    "n=nunique_tran[nunique_tran[\"transaction_id\"]>10].count()\n",
    "n"
   ]
  },
  {
   "cell_type": "code",
   "execution_count": 61,
   "id": "fc91862b",
   "metadata": {},
   "outputs": [],
   "source": [
    "#all customers aged between 25 - 35 are\n",
    "Customer_final[\"age\"]=pd.Timestamp.today() - Customer_final[\"DOB\"]"
   ]
  },
  {
   "cell_type": "code",
   "execution_count": 73,
   "id": "0b8a4681",
   "metadata": {},
   "outputs": [],
   "source": [
    "Customer_final[\"age\"]=round(Customer_final[\"age\"].dt.days/365.25,0)"
   ]
  },
  {
   "cell_type": "code",
   "execution_count": 88,
   "id": "c64f5a99",
   "metadata": {},
   "outputs": [
    {
     "data": {
      "text/plain": [
       "26760    35.0\n",
       "26761    35.0\n",
       "26762    35.0\n",
       "26763    35.0\n",
       "26764    35.0\n",
       "         ... \n",
       "99288    30.0\n",
       "99289    30.0\n",
       "99290    30.0\n",
       "99291    30.0\n",
       "99292    30.0\n",
       "Name: age, Length: 24246, dtype: float64"
      ]
     },
     "execution_count": 88,
     "metadata": {},
     "output_type": "execute_result"
    }
   ],
   "source": [
    "Customer_final=Customer_final.loc[Customer_final.age>24 ,:]\n",
    "Customer_final=Customer_final.loc[Customer_final.age<36 ,:]\n",
    "Customer_final[\"age\"]"
   ]
  },
  {
   "cell_type": "code",
   "execution_count": 122,
   "id": "44de5726",
   "metadata": {},
   "outputs": [
    {
     "name": "stdout",
     "output_type": "stream",
     "text": [
      "The total amount spent for “Electronics” and “Books” product categories is 30569228.3\n"
     ]
    }
   ],
   "source": [
    " #a. What was the total amount spent for “Electronics” and “Books” product categories?\n",
    "cat=Customer_final.pivot_table(columns=\"prod_cat\",values=\"total_amt\",aggfunc=\"sum\")\n",
    "(cat.loc[:,[\"Books\",\"Electronics\"]].sum()).sum()\n",
    "\n",
    "print('The total amount spent for “Electronics” and “Books” product categories is',\n",
    "      (cat.loc[:,[\"Books\",\"Electronics\"]].sum()).sum())"
   ]
  },
  {
   "cell_type": "code",
   "execution_count": 101,
   "id": "799d9f94",
   "metadata": {},
   "outputs": [],
   "source": [
    "#. What was the total amount spent by these customers between 1st Jan, 2014 to 1st Mar, 2014?"
   ]
  },
  {
   "cell_type": "code",
   "execution_count": 114,
   "id": "dc9213e6",
   "metadata": {},
   "outputs": [],
   "source": [
    "Customer_final.tran_date=pd.to_datetime(Customer_final.tran_date)"
   ]
  },
  {
   "cell_type": "code",
   "execution_count": 121,
   "id": "ef797d5c",
   "metadata": {},
   "outputs": [
    {
     "name": "stdout",
     "output_type": "stream",
     "text": [
      "The total amount spent by customers aged 25-35 between 1st Jan 2014 to 1st Mar 2014 is 1708854.875\n"
     ]
    }
   ],
   "source": [
    "total_amount = Customer_final[(Customer_final['tran_date'] >='2014-01-01') & (Customer_final['tran_date'] <='2014-03-01')]\n",
    "total_amount.total_amt.sum()   \n",
    "\n",
    "print('The total amount spent by customers aged 25-35 between 1st Jan 2014 to 1st Mar 2014 is',\n",
    "      total_amount['total_amt'].sum())"
   ]
  }
 ],
 "metadata": {
  "kernelspec": {
   "display_name": "Python 3 (ipykernel)",
   "language": "python",
   "name": "python3"
  },
  "language_info": {
   "codemirror_mode": {
    "name": "ipython",
    "version": 3
   },
   "file_extension": ".py",
   "mimetype": "text/x-python",
   "name": "python",
   "nbconvert_exporter": "python",
   "pygments_lexer": "ipython3",
   "version": "3.9.12"
  }
 },
 "nbformat": 4,
 "nbformat_minor": 5
}
